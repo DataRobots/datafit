{
 "cells": [
  {
   "cell_type": "code",
   "execution_count": 1,
   "metadata": {},
   "outputs": [],
   "source": [
    "#Import depdendencies.\n",
    "import os\n",
    "import pandas as pd\n",
    "import json\n",
    "from pprint import pprint\n",
    "import re\n",
    "import numpy as np\n",
    "import seaborn as sns\n",
    "import matplotlib.pyplot as plt\n"
   ]
  },
  {
   "cell_type": "code",
   "execution_count": 2,
   "metadata": {},
   "outputs": [],
   "source": [
    "filepath = os.path.join(\"../Resources\",\"cloth1010.json\")"
   ]
  },
  {
   "cell_type": "code",
   "execution_count": 3,
   "metadata": {},
   "outputs": [],
   "source": [
    "data_df = pd.read_json(filepath,lines=True)"
   ]
  },
  {
   "cell_type": "code",
   "execution_count": 4,
   "metadata": {},
   "outputs": [
    {
     "name": "stdout",
     "output_type": "stream",
     "text": [
      "<class 'pandas.core.frame.DataFrame'>\n",
      "RangeIndex: 82790 entries, 0 to 82789\n",
      "Data columns (total 18 columns):\n",
      "bra size          76772 non-null float64\n",
      "bust              11854 non-null object\n",
      "category          82790 non-null object\n",
      "cup size          76535 non-null object\n",
      "fit               82790 non-null object\n",
      "height            81683 non-null object\n",
      "hips              56064 non-null float64\n",
      "item_id           82790 non-null int64\n",
      "length            82755 non-null object\n",
      "quality           82722 non-null float64\n",
      "review_summary    76065 non-null object\n",
      "review_text       76065 non-null object\n",
      "shoe size         27915 non-null float64\n",
      "shoe width        18607 non-null object\n",
      "size              82790 non-null int64\n",
      "user_id           82790 non-null int64\n",
      "user_name         82790 non-null object\n",
      "waist             2882 non-null float64\n",
      "dtypes: float64(5), int64(3), object(10)\n",
      "memory usage: 11.4+ MB\n"
     ]
    }
   ],
   "source": [
    "data_df.info()"
   ]
  },
  {
   "cell_type": "code",
   "execution_count": null,
   "metadata": {},
   "outputs": [],
   "source": []
  }
 ],
 "metadata": {
  "kernelspec": {
   "display_name": "Python 3",
   "language": "python",
   "name": "python3"
  },
  "language_info": {
   "codemirror_mode": {
    "name": "ipython",
    "version": 3
   },
   "file_extension": ".py",
   "mimetype": "text/x-python",
   "name": "python",
   "nbconvert_exporter": "python",
   "pygments_lexer": "ipython3",
   "version": "3.6.4"
  }
 },
 "nbformat": 4,
 "nbformat_minor": 2
}
